{
  "nbformat": 4,
  "nbformat_minor": 0,
  "metadata": {
    "colab": {
      "name": "covar_jpcm_train.ipynb",
      "provenance": [],
      "collapsed_sections": []
    },
    "kernelspec": {
      "display_name": "Python 3",
      "name": "python3"
    },
    "language_info": {
      "name": "python"
    }
  },
  "cells": [
    {
      "cell_type": "code",
      "metadata": {
        "id": "2il82nJ5L14N"
      },
      "source": [
        "%%capture\n",
        "import sys\n",
        "!pip install tensorflow-addons\n",
        "!git clone https://github.com/ICascha/QuantGANs-replication.git\n",
        "sys.path.append('/content/QuantGANs-replication/')"
      ],
      "execution_count": 1,
      "outputs": []
    },
    {
      "cell_type": "code",
      "metadata": {
        "id": "ACG0A-h9L6K1"
      },
      "source": [
        "from backend.preprocessing import *\n",
        "from backend.metrics import *\n",
        "from backend.gan import CGAN\n",
        "from backend.tcn import make_TCN\n",
        "\n",
        "import pandas as pd\n",
        "import numpy as np\n",
        "import matplotlib.pyplot as plt\n",
        "\n",
        "from tensorflow.random import normal\n",
        "from tensorflow.keras.utils import Progbar\n",
        "from datetime import datetime, timedelta"
      ],
      "execution_count": 2,
      "outputs": []
    },
    {
      "cell_type": "code",
      "metadata": {
        "id": "C8tvVEMaBOfp"
      },
      "source": [
        "batch_size = 64\n",
        "n_batches = 5000\n",
        "additional_d_steps = 0"
      ],
      "execution_count": 3,
      "outputs": []
    },
    {
      "cell_type": "code",
      "metadata": {
        "id": "hBSoQLjUBeJs"
      },
      "source": [
        "# crsp dataset of jpmc returns and sp500 returns, obtained from wrds\n",
        "df = pd.read_csv('/content/jpmc_crsp.csv', parse_dates=['date'], usecols=['RET', 'sprtrn', 'date'])\n",
        "df = df[(df['date'] >= datetime.strptime('06 03 69', '%d %m %y')) & (df['date'] <= datetime.strptime('01 1 05', '%d %m %y'))]\n",
        "\n",
        "log_returns = df[['RET', 'sprtrn']].astype('float64').to_numpy()"
      ],
      "execution_count": 4,
      "outputs": []
    },
    {
      "cell_type": "code",
      "metadata": {
        "id": "-U3hmykFQwzP"
      },
      "source": [
        "s1 = StandardScaler()\n",
        "\n",
        "# receptive field size\n",
        "rfs = 253\n",
        "\n",
        "# pre-processing pipeline\n",
        "log_returns_preprocessed = s1.fit_transform(log_returns)\n",
        "log_returns_rolled = rolling_window(log_returns_preprocessed, rfs)"
      ],
      "execution_count": 5,
      "outputs": []
    },
    {
      "cell_type": "code",
      "metadata": {
        "id": "mv2fZ_kKRWi2"
      },
      "source": [
        "dilations = 2**(np.arange(6))\n",
        "n_filters = 60\n",
        "\n",
        "discriminator = make_TCN(dilations, n_filters, 0, False, True, False, [2, rfs, 1], block_size=4)\n",
        "generator = make_TCN(dilations, n_filters, 0, True, False, False, [2*2, None, 3], halve_output_series=True)"
      ],
      "execution_count": 6,
      "outputs": []
    },
    {
      "cell_type": "code",
      "metadata": {
        "id": "Xcsm_RtzQ_pb"
      },
      "source": [
        "gan = CGAN(discriminator, generator, rfs, lr_d=3e-4, lr_g=1e-4)"
      ],
      "execution_count": 7,
      "outputs": []
    },
    {
      "cell_type": "code",
      "metadata": {
        "colab": {
          "base_uri": "https://localhost:8080/"
        },
        "id": "UkC5Ey-lRLtB",
        "outputId": "9de048aa-b366-4fa0-e0f6-ffea61652cc3"
      },
      "source": [
        "data = np.expand_dims(np.moveaxis(np.moveaxis(log_returns_rolled, 0, 1), 1, 2), -1).astype('float32')\n",
        "batch_size = 128\n",
        "n_batches = 2000\n",
        "additional_d_steps = 0\n",
        "\n",
        "gan.train(data, batch_size, n_batches, additional_d_steps)"
      ],
      "execution_count": 8,
      "outputs": [
        {
          "output_type": "stream",
          "text": [
            "2000/2000 [==============================] - 2363s 1s/step\n"
          ],
          "name": "stdout"
        }
      ]
    },
    {
      "cell_type": "code",
      "metadata": {
        "colab": {
          "base_uri": "https://localhost:8080/"
        },
        "id": "t_Qpz2sVQ3Xm",
        "outputId": "06c0f683-a105-4f4b-baca-bbe8d4368c74"
      },
      "source": [
        "%%capture\n",
        "generator.save('trained_jpmc_generator_05')\n",
        "!zip -r trained_jpmc_generator_05.zip trained_jpmc_generator_05/"
      ],
      "execution_count": 9,
      "outputs": [
        {
          "output_type": "stream",
          "text": [
            "WARNING:tensorflow:Compiled the loaded model, but the compiled metrics have yet to be built. `model.compile_metrics` will be empty until you train or evaluate the model.\n"
          ],
          "name": "stdout"
        },
        {
          "output_type": "stream",
          "text": [
            "WARNING:tensorflow:Compiled the loaded model, but the compiled metrics have yet to be built. `model.compile_metrics` will be empty until you train or evaluate the model.\n",
            "WARNING:absl:Found untraced functions such as conv2d_970_layer_call_and_return_conditional_losses, conv2d_970_layer_call_fn, conv2d_971_layer_call_and_return_conditional_losses, conv2d_971_layer_call_fn, conv2d_972_layer_call_and_return_conditional_losses while saving (showing 5 of 325). These functions will not be directly callable after loading.\n",
            "/usr/local/lib/python3.7/dist-packages/tensorflow/python/keras/utils/generic_utils.py:497: CustomMaskWarning: Custom mask layers require a config and must override get_config. When loading, the custom mask layer must be passed to the custom_objects argument.\n",
            "  category=CustomMaskWarning)\n"
          ],
          "name": "stderr"
        },
        {
          "output_type": "stream",
          "text": [
            "INFO:tensorflow:Assets written to: /content/gdrive/My Drive/THESIS/JPMC_generator_20/assets\n"
          ],
          "name": "stdout"
        },
        {
          "output_type": "stream",
          "text": [
            "INFO:tensorflow:Assets written to: /content/gdrive/My Drive/THESIS/JPMC_generator_20/assets\n"
          ],
          "name": "stderr"
        }
      ]
    },
    {
      "cell_type": "code",
      "metadata": {
        "colab": {
          "base_uri": "https://localhost:8080/"
        },
        "id": "KXzBBPN7Ql2J",
        "outputId": "e863bee0-1fca-4b00-e287-b4a8e86296e2"
      },
      "source": [
        "files.download('trained_jpmc_generator_05.zip')"
      ],
      "execution_count": 10,
      "outputs": [
        {
          "output_type": "stream",
          "text": [
            "WARNING:tensorflow:No training configuration found in save file, so the model was *not* compiled. Compile it manually.\n"
          ],
          "name": "stdout"
        }
      ]
    }
  ]
}