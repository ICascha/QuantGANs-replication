{
 "cells": [
  {
   "cell_type": "code",
   "execution_count": 1,
   "metadata": {
    "id": "CiQ2on2juP0k"
   },
   "outputs": [],
   "source": [
    "%%capture\n",
    "import sys\n",
    "!pip install tensorflow-addons\n",
    "!git clone https://github.com/ICascha/QuantGANs-replication.git\n",
    "sys.path.append('/content/QuantGANs-replication/')"
   ]
  },
  {
   "cell_type": "code",
   "execution_count": 2,
   "metadata": {
    "id": "Ps1o9XGGuX9K"
   },
   "outputs": [],
   "source": [
    "from backend.preprocessing import *\n",
    "from backend.metrics import *\n",
    "from backend.gan import CGAN\n",
    "from backend.tcn import make_TCN\n",
    "\n",
    "import pandas as pd\n",
    "import numpy as np\n",
    "import matplotlib.pyplot as plt\n",
    "\n",
    "from tensorflow.random import normal\n",
    "from tensorflow.keras.utils import Progbar\n",
    "from tensorflow.keras.models import Model\n",
    "from tensorflow.keras.layers import Concatenate, Input\n",
    "import tensorflow as tf\n",
    "from datetime import datetime, timedelta\n",
    "\n",
    "from google.colab import files"
   ]
  },
  {
   "cell_type": "code",
   "execution_count": 3,
   "metadata": {
    "id": "4pPuYOif0IfK"
   },
   "outputs": [],
   "source": [
    "# dataset with returns and covar info of most publicly traded US stocks, can be gathered from: \n",
    "# https://www.openicpsr.org/openicpsr/project/112877/version/V1/view\n",
    "df = pd.read_csv('/content/covar_dataset.csv', parse_dates=['week']).iloc[: ,1:]\n",
    "sic = df['HSICCD'].astype('str').str\n",
    "df = df[sic.startswith('60') | sic.startswith('61') | sic.startswith('62') | sic.startswith('6711') | sic.startswith('6712')]\n",
    "df = df[['week', 'ret', 'marketret', 'permno', 'SIZE']]\n",
    "# train cutt-off\n",
    "df = df[df['week'] <= np.datetime64('2005-01-01')]"
   ]
  },
  {
   "cell_type": "code",
   "execution_count": 4,
   "metadata": {
    "id": "BCJg_52lp-lw"
   },
   "outputs": [],
   "source": [
    "# standardize returns\n",
    "for permno in df['permno'].unique():\n",
    "    mask = df['permno'] == permno\n",
    "    df.loc[mask, 'ret'] = (df[mask]['ret'] - df[mask]['ret'].mean())/df[mask]['ret'].std()"
   ]
  },
  {
   "cell_type": "code",
   "execution_count": 5,
   "metadata": {
    "id": "7VIgiSrUrVH6"
   },
   "outputs": [],
   "source": [
    "# standardize marketret\n",
    "df_mkt = df[['week', 'marketret']].drop_duplicates()\n",
    "# market returns are not given as losses originally\n",
    "std_mkt =  (df_mkt['marketret'] - df_mkt['marketret'].mean())/df_mkt['marketret'].std() * -1\n",
    "mapping_mkt = {x:y for x,y in zip(df_mkt['marketret'], std_mkt)}\n",
    "df = df.replace({'marketret': mapping_mkt})"
   ]
  },
  {
   "cell_type": "code",
   "execution_count": 6,
   "metadata": {
    "id": "bLcaUlBIng3x"
   },
   "outputs": [],
   "source": [
    "dilations = 2**np.arange(3)\n",
    "fixed_filters, moving_filters = 50, 10\n",
    "rfs = 1 + 2 * sum(dilations)\n",
    "\n",
    "discriminator = make_TCN(dilations, fixed_filters, moving_filters, False, True, False, [4, rfs*2-1, 1], block_size=4)\n",
    "generator = make_TCN(dilations, fixed_filters, moving_filters, False, False, False, [8, None, 3], halve_output_series=True)"
   ]
  },
  {
   "cell_type": "code",
   "execution_count": 7,
   "metadata": {
    "colab": {
     "base_uri": "https://localhost:8080/"
    },
    "id": "RApQklOWPG_x",
    "outputId": "c5433512-0dec-4c79-f15b-198a9a042dda"
   },
   "outputs": [
    {
     "name": "stdout",
     "output_type": "stream",
     "text": [
      "587/589 [============================>.] - ETA: 0s"
     ]
    }
   ],
   "source": [
    "df = df.sort_values(by='week')\n",
    "\n",
    "length = 2*rfs - 1\n",
    "n_series = 3\n",
    "\n",
    "a_week = np.timedelta64(1, 'W')\n",
    "window_length =  np.timedelta64(length-1, 'W')\n",
    "window_permno = []\n",
    "valid_windows = []\n",
    "\n",
    "unique_weeks = df['week'].unique()\n",
    "\n",
    "pb = Progbar(len(unique_weeks))\n",
    "\n",
    "# check for each window started from all unique weeks in dataset which companies\n",
    "# do not have any missing values in this dataset, then save those companies\n",
    "# pemrno and size in window_permno, and if > n_series companies are in a window\n",
    "# it can be used for training is is thus valid.\n",
    "for j, week in enumerate(unique_weeks):\n",
    "\n",
    "    window_permno.append([])\n",
    "    week_range = (week, week + window_length)\n",
    "    df_window = df[(df['week'] >= week_range[0]) & (df['week'] <= week_range[1])]\n",
    "    \n",
    "    for permno in df_window['permno'].unique():\n",
    "        permno_mask = df_window['permno'] == permno\n",
    "\n",
    "        if sum(permno_mask) == length:\n",
    "                window_permno[-1].append((permno, df_window[permno_mask]['SIZE'].mean()))\n",
    "    \n",
    "    window_permno[-1] = np.array(window_permno[-1])\n",
    "    if len(window_permno[-1]) >= n_series:\n",
    "        valid_windows.append(j)\n",
    "    pb.update(j)"
   ]
  },
  {
   "cell_type": "code",
   "execution_count": 8,
   "metadata": {
    "id": "LWIDi3WwZpn0"
   },
   "outputs": [],
   "source": [
    "min_week = df['week'].min().to_numpy()\n",
    "\n",
    "from tensorflow.keras.layers import Input\n",
    "\n",
    "class cGANMultiAsset(CGAN):\n",
    "    \n",
    "    #Override train method\n",
    "    def train(self, window_permno, valid_windows, length, batch_size, n_batches, additional_d_steps):\n",
    "        progress = Progbar(n_batches)\n",
    "\n",
    "        for n_batch in range(n_batches):\n",
    "            \n",
    "            batch = np.zeros((batch_size, length, n_series + 1))\n",
    "            windows_batch = np.random.choice(valid_windows, size=batch_size, replace = len(valid_windows) < batch_size)\n",
    "            for j, w in enumerate(windows_batch):\n",
    "                \n",
    "                delta_week = np.timedelta64(w, 'W')\n",
    "                week_range = unique_weeks[w], unique_weeks[w+length-1]\n",
    "                df_window = df[(df['week'] >= week_range[0]) & (df['week'] <= week_range[1])]\n",
    "                # sample multinomially with p = lambda * company size\n",
    "                assets = np.random.choice(window_permno[w][:, 0], replace=False, p=window_permno[w][:, 1]/window_permno[w][:, 1].sum(), size=n_series)\n",
    "                for i in range(len(assets)-1):\n",
    "                    if len(df_window[df_window['permno'] == assets[i]]['ret'].to_numpy()) != 29:\n",
    "                        print(df_window[df_window['permno'] == assets[i]])\n",
    "\n",
    "                    batch[j,:,i] = df_window[df_window['permno'] == assets[i]]['ret'].to_numpy()\n",
    "            \n",
    "            batch[j, :, n_series-1:] = df_window[df_window['permno'] == assets[-1]][['ret', 'marketret']].to_numpy()\n",
    "\n",
    "            batch = np.swapaxes(np.expand_dims(batch, -1), 1, 2).astype('float32')\n",
    "            self.train_step(batch, batch_size, additional_d_steps)\n",
    "\n",
    "            self.train_hook(n_batch)\n",
    "\n",
    "            progress.update(n_batch + 1)\n",
    "        \n",
    "gan = cGANMultiAsset(discriminator, generator, rfs*2-1, lr_d=1e-4, lr_g=9e-5)"
   ]
  },
  {
   "cell_type": "code",
   "execution_count": 9,
   "metadata": {
    "colab": {
     "base_uri": "https://localhost:8080/"
    },
    "id": "Z0-i7aIH1m9q",
    "outputId": "4fb5bf7a-cdde-4217-f563-a47cde7c2062"
   },
   "outputs": [
    {
     "name": "stdout",
     "output_type": "stream",
     "text": [
      "5000/5000 [==============================] - 2958s 579ms/step\n"
     ]
    }
   ],
   "source": [
    "batch_size = 64\n",
    "n_steps = 5000\n",
    "gan.train(window_permno, valid_windows, rfs*2-1, batch_size, n_steps, 0)"
   ]
  },
  {
   "cell_type": "code",
   "execution_count": 10,
   "metadata": {
    "colab": {
     "base_uri": "https://localhost:8080/"
    },
    "id": "Xr6Ck2XRHO-x",
    "outputId": "22f3e6d2-e34b-47fb-a3c3-811790e1bbf6"
   },
   "outputs": [
    {
     "name": "stdout",
     "output_type": "stream",
     "text": [
      "WARNING:tensorflow:Compiled the loaded model, but the compiled metrics have yet to be built. `model.compile_metrics` will be empty until you train or evaluate the model.\n",
      "INFO:tensorflow:Assets written to: cond_generator/assets\n"
     ]
    }
   ],
   "source": [
    "%%capture\n",
    "generator.save('cond_generator')"
   ]
  },
  {
   "cell_type": "code",
   "execution_count": 11,
   "metadata": {
    "colab": {
     "base_uri": "https://localhost:8080/"
    },
    "id": "05j5a-b3GyDk",
    "outputId": "b71727da-3162-496b-8ff7-0b14858dceef"
   },
   "outputs": [
    {
     "name": "stdout",
     "output_type": "stream",
     "text": [
      "  adding: cond_generator/ (stored 0%)\n",
      "  adding: cond_generator/variables/ (stored 0%)\n",
      "  adding: cond_generator/variables/variables.data-00000-of-00001 (deflated 8%)\n",
      "  adding: cond_generator/variables/variables.index (deflated 78%)\n",
      "  adding: cond_generator/keras_metadata.pb (deflated 96%)\n",
      "  adding: cond_generator/saved_model.pb (deflated 94%)\n",
      "  adding: cond_generator/assets/ (stored 0%)\n"
     ]
    }
   ],
   "source": [
    "!zip -r train_covar_banks_cond_generator.zip cond_generator/ "
   ]
  },
  {
   "cell_type": "code",
   "execution_count": 12,
   "metadata": {
    "colab": {
     "base_uri": "https://localhost:8080/",
     "height": 17
    },
    "id": "dhSiKIv9gocx",
    "outputId": "b58e1706-e75e-4ef0-e1cf-611fff668ff4"
   },
   "outputs": [
    {
     "data": {
      "application/javascript": [
       "\n",
       "    async function download(id, filename, size) {\n",
       "      if (!google.colab.kernel.accessAllowed) {\n",
       "        return;\n",
       "      }\n",
       "      const div = document.createElement('div');\n",
       "      const label = document.createElement('label');\n",
       "      label.textContent = `Downloading \"${filename}\": `;\n",
       "      div.appendChild(label);\n",
       "      const progress = document.createElement('progress');\n",
       "      progress.max = size;\n",
       "      div.appendChild(progress);\n",
       "      document.body.appendChild(div);\n",
       "\n",
       "      const buffers = [];\n",
       "      let downloaded = 0;\n",
       "\n",
       "      const channel = await google.colab.kernel.comms.open(id);\n",
       "      // Send a message to notify the kernel that we're ready.\n",
       "      channel.send({})\n",
       "\n",
       "      for await (const message of channel.messages) {\n",
       "        // Send a message to notify the kernel that we're ready.\n",
       "        channel.send({})\n",
       "        if (message.buffers) {\n",
       "          for (const buffer of message.buffers) {\n",
       "            buffers.push(buffer);\n",
       "            downloaded += buffer.byteLength;\n",
       "            progress.value = downloaded;\n",
       "          }\n",
       "        }\n",
       "      }\n",
       "      const blob = new Blob(buffers, {type: 'application/binary'});\n",
       "      const a = document.createElement('a');\n",
       "      a.href = window.URL.createObjectURL(blob);\n",
       "      a.download = filename;\n",
       "      div.appendChild(a);\n",
       "      a.click();\n",
       "      div.remove();\n",
       "    }\n",
       "  "
      ],
      "text/plain": [
       "<IPython.core.display.Javascript object>"
      ]
     },
     "metadata": {
      "tags": []
     },
     "output_type": "display_data"
    },
    {
     "data": {
      "application/javascript": [
       "download(\"download_0d30e130-344a-493d-acb0-b922ae8af625\", \"train_covar_banks_cond_generator.zip\", 10040557)"
      ],
      "text/plain": [
       "<IPython.core.display.Javascript object>"
      ]
     },
     "metadata": {
      "tags": []
     },
     "output_type": "display_data"
    }
   ],
   "source": [
    "files.download('train_covar_banks_cond_generator.zip')"
   ]
  },
  {
   "cell_type": "code",
   "execution_count": 13,
   "metadata": {
    "id": "bw0x2xflZmFN"
   },
   "outputs": [],
   "source": [
    "# sic's cross referenced with WRDS database on permno\n",
    "df = pd.read_csv('/content/covar_dataset.csv', parse_dates=['week']).iloc[: ,1:]\n",
    "sic = df['HSICCD'].astype('str').str\n",
    "df = df[sic.startswith('60') | sic.startswith('61') | sic.startswith('62') | sic.startswith('6711') | sic.startswith('6712')]\n",
    "df = df[['week', 'ret', 'marketret', 'permno', 'SIZE', 'DCoVaR_CS_p95']]"
   ]
  },
  {
   "cell_type": "code",
   "execution_count": 14,
   "metadata": {
    "id": "_6mux8WoZqp0"
   },
   "outputs": [],
   "source": [
    "# standardize returns\n",
    "for permno in df['permno'].unique():\n",
    "    mask = df['permno'] == permno\n",
    "    df.loc[mask, 'ret'] = (df[mask]['ret'] - df[mask]['ret'].mean())/df[mask]['ret'].std()"
   ]
  },
  {
   "cell_type": "code",
   "execution_count": 15,
   "metadata": {
    "id": "OmFEYiyHZuM8"
   },
   "outputs": [],
   "source": [
    "# standardize marketret\n",
    "df_mkt = df[['week', 'marketret']].drop_duplicates()\n",
    "# market returns are not given as losses originally\n",
    "std_mkt =  (df_mkt['marketret'] - df_mkt['marketret'].mean())/df_mkt['marketret'].std() * -1\n",
    "mapping_mkt = {x:y for x,y in zip(df_mkt['marketret'], std_mkt)}\n",
    "df = df.replace({'marketret': mapping_mkt})\n",
    "df = df.sort_values(by='week')"
   ]
  },
  {
   "cell_type": "code",
   "execution_count": 16,
   "metadata": {
    "id": "QBktEGZcZvTQ"
   },
   "outputs": [],
   "source": [
    "# train cutt-off after standardization, note fitting a standardizer\n",
    "# on the test set introduces a slight bias but there is so much data\n",
    "# before 2005 that this effect ought to be limited\n",
    "df = df[df['week'] >= np.datetime64('2005-01-01')]"
   ]
  },
  {
   "cell_type": "code",
   "execution_count": 17,
   "metadata": {
    "id": "UNAl-kkqZyXE"
   },
   "outputs": [],
   "source": [
    "%%capture\n",
    "test_leh = df[df['permno'] == 80599]\n",
    "test_gs = df[df['permno'] == 86868]\n",
    "test_boa = df[df['permno'] == 59408]\n",
    "\n",
    "test_leh['DCoVaR_leh'] = test_leh.loc[:, 'DCoVaR_CS_p95']\n",
    "test_gs['DCoVaR_gs'] = test_gs.loc[:, 'DCoVaR_CS_p95']\n",
    "test_boa['DCoVaR_boa'] = test_boa.loc[:, 'DCoVaR_CS_p95']\n",
    "\n",
    "\n",
    "test_leh['ret_leh'] = test_leh.loc[:, 'ret']\n",
    "test_gs['ret_gs'] = test_gs.loc[:, 'ret']\n",
    "test_boa['ret_boa'] = test_boa.loc[:, 'ret']\n",
    "\n",
    "test_df = test_leh[['week', 'ret_leh', 'DCoVaR_leh', 'marketret']]\n",
    "test_df = test_df.merge(test_gs[['week', 'ret_gs', 'DCoVaR_gs']], left_on='week', right_on='week')\n",
    "test_df = test_df.merge(test_boa[['week', 'ret_boa', 'DCoVaR_boa']], left_on='week', right_on='week')"
   ]
  },
  {
   "cell_type": "code",
   "execution_count": 18,
   "metadata": {
    "id": "X8z5DPRTZ-Ou"
   },
   "outputs": [],
   "source": [
    "test_mat = test_df[['ret_leh', 'ret_gs', 'ret_boa', 'marketret']].to_numpy()\n",
    "window_length = 14\n",
    "sim_size = 512\n",
    "pred_covar = np.zeros((len(test_mat) - window_length - 5, 4))\n",
    "asset = 0 # condition on lehman VaR\n",
    "q = .95\n",
    "\n",
    "for i in range(2, len(test_mat) - window_length - 3):\n",
    "    test_mat[i:14+i]\n",
    "\n",
    "    total_z = []\n",
    "\n",
    "    for offset in [-2, -1, 0, 1, 2, 3]:\n",
    "\n",
    "        data = np.expand_dims(test_mat[i+offset:14+i+offset].T, -1).astype('float32')\n",
    "\n",
    "        noise = tf.concat([tf.zeros([sim_size, data.shape[0], window_length, 3]), tf.random.normal([sim_size, data.shape[0], window_length + 1, 3])], axis=2)\n",
    "        real_part = tf.repeat(tf.concat([tf.convert_to_tensor(np.repeat(np.expand_dims(data, 0), sim_size, 0)), \n",
    "                                         tf.zeros([sim_size, data.shape[0], window_length + 1, 1])], axis=2), 3, axis=3)\n",
    "        noise_input = tf.concat([real_part, noise], axis=1)\n",
    "\n",
    "        z = generator(noise_input, training=False).numpy().squeeze()\n",
    "        z = np.moveaxis(z, 0, 1)\n",
    "        total_z.append(z)\n",
    "\n",
    "    z = np.concatenate(total_z, axis=1)\n",
    "\n",
    "    VaR_mask_50 = z[asset] >= np.quantile(z[asset], .5)\n",
    "    VaR_mask_q = z[asset] >= np.quantile(z[asset], q)\n",
    "\n",
    "    delta_covar = np.quantile(z[:, VaR_mask_q], q, axis=1) - np.quantile(z[:, VaR_mask_50], q, axis=1)\n",
    "        \n",
    "    pred_covar[i-2] = delta_covar"
   ]
  },
  {
   "cell_type": "code",
   "execution_count": 19,
   "metadata": {
    "colab": {
     "base_uri": "https://localhost:8080/",
     "height": 501
    },
    "id": "1a11oZqlbb8S",
    "outputId": "38e99f30-0a05-407e-d1bf-18a7dc20d986"
   },
   "outputs": [
    {
     "data": {
      "application/javascript": [
       "\n",
       "    async function download(id, filename, size) {\n",
       "      if (!google.colab.kernel.accessAllowed) {\n",
       "        return;\n",
       "      }\n",
       "      const div = document.createElement('div');\n",
       "      const label = document.createElement('label');\n",
       "      label.textContent = `Downloading \"${filename}\": `;\n",
       "      div.appendChild(label);\n",
       "      const progress = document.createElement('progress');\n",
       "      progress.max = size;\n",
       "      div.appendChild(progress);\n",
       "      document.body.appendChild(div);\n",
       "\n",
       "      const buffers = [];\n",
       "      let downloaded = 0;\n",
       "\n",
       "      const channel = await google.colab.kernel.comms.open(id);\n",
       "      // Send a message to notify the kernel that we're ready.\n",
       "      channel.send({})\n",
       "\n",
       "      for await (const message of channel.messages) {\n",
       "        // Send a message to notify the kernel that we're ready.\n",
       "        channel.send({})\n",
       "        if (message.buffers) {\n",
       "          for (const buffer of message.buffers) {\n",
       "            buffers.push(buffer);\n",
       "            downloaded += buffer.byteLength;\n",
       "            progress.value = downloaded;\n",
       "          }\n",
       "        }\n",
       "      }\n",
       "      const blob = new Blob(buffers, {type: 'application/binary'});\n",
       "      const a = document.createElement('a');\n",
       "      a.href = window.URL.createObjectURL(blob);\n",
       "      a.download = filename;\n",
       "      div.appendChild(a);\n",
       "      a.click();\n",
       "      div.remove();\n",
       "    }\n",
       "  "
      ],
      "text/plain": [
       "<IPython.core.display.Javascript object>"
      ]
     },
     "metadata": {
      "tags": []
     },
     "output_type": "display_data"
    },
    {
     "data": {
      "application/javascript": [
       "download(\"download_615e17d0-4c09-41d3-b0be-1cf2ed519ab2\", \"pred_dcovar_banks.png\", 40638)"
      ],
      "text/plain": [
       "<IPython.core.display.Javascript object>"
      ]
     },
     "metadata": {
      "tags": []
     },
     "output_type": "display_data"
    },
    {
     "data": {
      "image/png": "[encoded data removed]",
      "text/plain": [
       "<Figure size 720x576 with 1 Axes>"
      ]
     },
     "metadata": {
      "needs_background": "light",
      "tags": []
     },
     "output_type": "display_data"
    }
   ],
   "source": [
    "fig, ax = plt.subplots(figsize=(10,8))\n",
    "\n",
    "ax.plot(test_df['week'][-len(pred_covar[:, 1:]):] + np.timedelta64(8, 'W'), pred_covar[:, 1:-1])\n",
    "ax.legend(['JP Morgan', 'Bank of America'], loc='upper left')\n",
    "ax.set_xlabel('date')\n",
    "ax.set_ylabel('predicted $\\Delta$CoVaR');\n",
    "ax.vlines(np.datetime64('2008-09-15'), -10, 10, linestyles='dashdot', alpha=0.7)\n",
    "ax.set_ylim(-0.75, 4)\n",
    "ax.grid(alpha=0.5)\n",
    "plt.savefig('pred_dcovar_banks.png')\n",
    "files.download('pred_dcovar_banks.png')"
   ]
  }
 ],
 "metadata": {
  "accelerator": "GPU",
  "colab": {
   "collapsed_sections": [],
   "name": "banking_train_final.ipynb",
   "provenance": []
  },
  "kernelspec": {
   "display_name": "Python 3",
   "language": "python",
   "name": "python3"
  },
  "language_info": {
   "codemirror_mode": {
    "name": "ipython",
    "version": 3
   },
   "file_extension": ".py",
   "mimetype": "text/x-python",
   "name": "python",
   "nbconvert_exporter": "python",
   "pygments_lexer": "ipython3",
   "version": "3.8.5"
  }
 },
 "nbformat": 4,
 "nbformat_minor": 4
}
