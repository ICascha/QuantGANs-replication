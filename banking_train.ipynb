{
  "nbformat": 4,
  "nbformat_minor": 0,
  "metadata": {
    "colab": {
      "name": "COVAR_BANKS.ipynb",
      "provenance": [],
      "collapsed_sections": []
    },
    "kernelspec": {
      "name": "python3",
      "display_name": "Python 3"
    },
    "language_info": {
      "name": "python"
    }
  },
  "cells": [
    {
      "cell_type": "code",
      "metadata": {
        "id": "CiQ2on2juP0k"
      },
      "source": [
        "%%capture\n",
        "import sys\n",
        "!pip install tensorflow-addons\n",
        "!git clone https://github.com/ICascha/QuantGANs-replication.git\n",
        "sys.path.append('/content/QuantGANs-replication/')"
      ],
      "execution_count": 1,
      "outputs": []
    },
    {
      "cell_type": "code",
      "metadata": {
        "id": "Ps1o9XGGuX9K"
      },
      "source": [
        "from backend.preprocessing import *\n",
        "from backend.metrics import *\n",
        "from backend.gan import CGAN\n",
        "from backend.tcn import make_TCN\n",
        "\n",
        "import pandas as pd\n",
        "import numpy as np\n",
        "import matplotlib.pyplot as plt\n",
        "\n",
        "from tensorflow.random import normal\n",
        "from tensorflow.keras.utils import Progbar\n",
        "from tensorflow.keras.models import Model\n",
        "from tensorflow.keras.layers import Concatenate, Input\n",
        "from datetime import datetime, timedelta"
      ],
      "execution_count": 2,
      "outputs": []
    },
    {
      "cell_type": "code",
      "metadata": {
        "id": "4pPuYOif0IfK"
      },
      "source": [
        "# dataset with returns and covar info of most publicly traded US stocks, can be gathered from: \n",
        "# https://www.openicpsr.org/openicpsr/project/112877/version/V1/view\n",
        "df = pd.read_csv('/content/covar_dataset.csv', parse_dates=['week']).iloc[: ,1:]\n",
        "sic = df['HSICCD'].astype('str').str\n",
        "df = df[sic.startswith('60') | sic.startswith('61') | sic.startswith('62') | sic.startswith('6711') | sic.startswith('6712')]\n",
        "df = df[['week', 'ret', 'marketret', 'ted', 'permno', 'SIZE']]\n",
        "# train cutt-off\n",
        "df = df[df['week'] <= np.datetime64('2005-01-01')]"
      ],
      "execution_count": 3,
      "outputs": []
    },
    {
      "cell_type": "code",
      "metadata": {
        "id": "BCJg_52lp-lw"
      },
      "source": [
        "# standardize returns\n",
        "for permno in df['permno'].unique():\n",
        "    mask = df['permno'] == permno\n",
        "    df.loc[mask, 'ret'] = (df[mask]['ret'] - df[mask]['ret'].mean())/df[mask]['ret'].std()"
      ],
      "execution_count": 4,
      "outputs": []
    },
    {
      "cell_type": "code",
      "metadata": {
        "id": "7VIgiSrUrVH6"
      },
      "source": [
        "# standardize ted and marketret\n",
        "df_mkt_ted = df[['week', 'marketret', 'ted']].drop_duplicates()\n",
        "std_mkt =  (df_mkt_ted['marketret'] - df_mkt_ted['marketret'].mean())/df_mkt_ted['marketret'].std()\n",
        "std_ted = (df_mkt_ted['ted'] - df_mkt_ted['ted'].mean())/df_mkt_ted['ted'].std()\n",
        "mapping_mkt = {x:y for x,y in zip(df_mkt_ted['marketret'], std_mkt)}\n",
        "mapping_ted = {x:y for x,y in zip(df_mkt_ted['ted'], std_ted)}\n",
        "\n",
        "df = df.replace({'marketret': mapping_mkt, 'ted': mapping_ted})"
      ],
      "execution_count": 5,
      "outputs": []
    },
    {
      "cell_type": "code",
      "metadata": {
        "id": "bLcaUlBIng3x"
      },
      "source": [
        "dilations = 2**np.arange(3)\n",
        "fixed_filters, moving_filters = 40, 10\n",
        "rfs = 1 + 2 * sum(dilations)\n",
        "\n",
        "discriminator = make_TCN(dilations, fixed_filters, moving_filters, False, True, False, [5, rfs*2-1, 1], block_size=4)\n",
        "generator = make_TCN(dilations, fixed_filters, moving_filters, False, False, False, [10, None, 3], halve_output_series=True)"
      ],
      "execution_count": 6,
      "outputs": []
    },
    {
      "cell_type": "code",
      "metadata": {
        "colab": {
          "base_uri": "https://localhost:8080/"
        },
        "id": "RApQklOWPG_x",
        "outputId": "f993d641-e13b-4cf1-819b-25bac0797c97"
      },
      "source": [
        "df = df.sort_values(by='week')\n",
        "\n",
        "length = 2*rfs - 1\n",
        "n_series = 3\n",
        "\n",
        "a_week = np.timedelta64(1, 'W')\n",
        "window_length =  np.timedelta64(length-1, 'W')\n",
        "window_permno = []\n",
        "valid_windows = []\n",
        "\n",
        "unique_weeks = df['week'].unique()\n",
        "\n",
        "pb = Progbar(len(unique_weeks))\n",
        "\n",
        "# check for each window started from all unique weeks in dataset which companies\n",
        "# do not have any missing values in this dataset, then save those companies\n",
        "# pemrno and size in window_permno, and if > n_series companies are in a window\n",
        "# it can be used for training is is thus valid.\n",
        "for j, week in enumerate(unique_weeks):\n",
        "\n",
        "    window_permno.append([])\n",
        "    week_range = (week, week + window_length)\n",
        "    df_window = df[(df['week'] >= week_range[0]) & (df['week'] <= week_range[1])]\n",
        "    \n",
        "    for permno in df_window['permno'].unique():\n",
        "        permno_mask = df_window['permno'] == permno\n",
        "\n",
        "        if sum(permno_mask) == length:\n",
        "                window_permno[-1].append((permno, df_window[permno_mask]['SIZE'].mean()))\n",
        "    \n",
        "    window_permno[-1] = np.array(window_permno[-1])\n",
        "    if len(window_permno[-1]) >= n_series:\n",
        "        valid_windows.append(j)\n",
        "    pb.update(j)"
      ],
      "execution_count": 7,
      "outputs": [
        {
          "output_type": "stream",
          "text": [
            "1243/1244 [============================>.] - ETA: 0s"
          ],
          "name": "stdout"
        }
      ]
    },
    {
      "cell_type": "code",
      "metadata": {
        "colab": {
          "base_uri": "https://localhost:8080/"
        },
        "id": "LWIDi3WwZpn0",
        "outputId": "567c864c-3454-4301-ca35-5ba1ff31c909"
      },
      "source": [
        "min_week = df['week'].min().to_numpy()\n",
        "\n",
        "class cGANMultiAsset(CGAN):\n",
        "    \n",
        "    #Override train method\n",
        "    def train(self, window_permno, valid_windows, length, batch_size, n_batches, additional_d_steps):\n",
        "        progress = Progbar(n_batches)\n",
        "\n",
        "        for n_batch in range(n_batches):\n",
        "            \n",
        "            batch = np.zeros((batch_size, length, n_series + 2))\n",
        "            windows_batch = np.random.choice(valid_windows, size=batch_size, replace = len(valid_windows) < batch_size)\n",
        "            for j, w in enumerate(windows_batch):\n",
        "                \n",
        "                delta_week = np.timedelta64(w, 'W')\n",
        "                week_range = unique_weeks[w], unique_weeks[w+length-1]\n",
        "                df_window = df[(df['week'] >= week_range[0]) & (df['week'] <= week_range[1])]\n",
        "                # sample multinomially with p = lambda * company size\n",
        "                assets = np.random.choice(window_permno[w][:, 0], replace=False, p=window_permno[w][:, 1]/window_permno[w][:, 1].sum(), size=n_series)\n",
        "                for i in range(len(assets)-1):\n",
        "                    if len(df_window[df_window['permno'] == assets[i]]['ret'].to_numpy()) != 29:\n",
        "                        print(df_window[df_window['permno'] == assets[i]])\n",
        "\n",
        "                    batch[j,:,i] = df_window[df_window['permno'] == assets[i]]['ret'].to_numpy()\n",
        "            \n",
        "            batch[j, :, n_series-1:] = df_window[df_window['permno'] == assets[-1]][['ret', 'marketret', 'ted']].to_numpy()\n",
        "\n",
        "            batch = np.swapaxes(np.expand_dims(batch, -1), 1, 2).astype('float32')\n",
        "            self.train_step(batch, batch_size, additional_d_steps)\n",
        "\n",
        "            self.train_hook(n_batch)\n",
        "\n",
        "            progress.update(n_batch + 1)\n",
        "        \n",
        "gan = cGANMultiAsset(discriminator, generator, rfs*2-1, lr_d=1e-4, lr_g=9e-5)"
      ],
      "execution_count": 8,
      "outputs": [
        {
          "output_type": "stream",
          "text": [
            "[10, 29, 3]\n"
          ],
          "name": "stdout"
        }
      ]
    },
    {
      "cell_type": "code",
      "metadata": {
        "colab": {
          "base_uri": "https://localhost:8080/"
        },
        "id": "Z0-i7aIH1m9q",
        "outputId": "1fd8c2f3-0a95-45de-87e6-4698e65825be"
      },
      "source": [
        "batch_size = 64\n",
        "n_steps = 10000\n",
        "gan.train(window_permno, valid_windows, rfs*2-1, batch_size, n_steps, 0)"
      ],
      "execution_count": 9,
      "outputs": [
        {
          "output_type": "stream",
          "text": [
            "10000/10000 [==============================] - 4819s 476ms/step\n"
          ],
          "name": "stdout"
        }
      ]
    },
    {
      "cell_type": "code",
      "metadata": {
        "colab": {
          "base_uri": "https://localhost:8080/"
        },
        "id": "Xr6Ck2XRHO-x",
        "outputId": "6a3accc9-21a7-47b1-d318-f075ae4b44f8"
      },
      "source": [
        "%%capture\n",
        "generator.save('cond_generator')"
      ],
      "execution_count": 10,
      "outputs": [
        {
          "output_type": "stream",
          "text": [
            "INFO:tensorflow:Assets written to: cond_generator/assets\n"
          ],
          "name": "stdout"
        },
        {
          "output_type": "stream",
          "text": [
            "INFO:tensorflow:Assets written to: cond_generatore/assets\n"
          ],
          "name": "stderr"
        }
      ]
    },
    {
      "cell_type": "code",
      "metadata": {
        "colab": {
          "base_uri": "https://localhost:8080/"
        },
        "id": "05j5a-b3GyDk",
        "outputId": "c255f409-8961-46b4-e864-b86642cafee9"
      },
      "source": [
        "!zip -r train_covar_banks_cond_generator.zip cond_generator/ "
      ],
      "execution_count": 11,
      "outputs": [
        {
          "output_type": "stream",
          "text": [
            "updating: cond_generator_sparse/ (stored 0%)\n",
            "updating: cond_generator_sparse/variables/ (stored 0%)\n",
            "updating: cond_generator_sparse/variables/variables.index (deflated 78%)\n",
            "updating: cond_generator_sparse/variables/variables.data-00000-of-00001 (deflated 8%)\n",
            "updating: cond_generator_sparse/keras_metadata.pb (deflated 96%)\n",
            "updating: cond_generator_sparse/saved_model.pb (deflated 94%)\n",
            "updating: cond_generator_sparse/assets/ (stored 0%)\n"
          ],
          "name": "stdout"
        }
      ]
    }
  ]
}
